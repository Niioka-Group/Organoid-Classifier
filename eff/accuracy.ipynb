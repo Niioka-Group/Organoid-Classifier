{
 "cells": [
  {
   "cell_type": "code",
   "execution_count": 1,
   "metadata": {},
   "outputs": [],
   "source": [
    "import numpy as np\n",
    "import pandas as pd\n",
    "import matplotlib.pyplot as plt\n",
    "\n",
    "plt.style.use(\"ggplot\")\n",
    "\n",
    "import torch\n",
    "import torch.nn as nn\n",
    "import torchvision.transforms as transforms\n",
    "\n",
    "import torchvision\n",
    "from torchvision import datasets, transforms\n",
    "from torch.nn import functional as F\n",
    "from torch.utils.data import DataLoader, sampler, random_split\n",
    "import timm\n",
    "import cv2\n",
    "import gc\n",
    "import os\n",
    "import time\n",
    "import random\n",
    "from datetime import datetime\n",
    "\n",
    "from PIL import Image\n",
    "from tqdm.notebook import tqdm\n",
    "from sklearn import model_selection, metrics\n",
    "from pathlib import Path\n",
    "from sklearn.model_selection import train_test_split\n",
    "from albumentations.core.transforms_interface import DualTransform\n",
    "\n",
    "from efficientnet_pytorch import EfficientNet\n",
    "\n",
    "from albumentations.core.transforms_interface import ImageOnlyTransform\n",
    "from albumentations.augmentations import functional as F\n",
    "from PIL import Image, ImageOps, ImageEnhance"
   ]
  },
  {
   "cell_type": "code",
   "execution_count": 2,
   "metadata": {},
   "outputs": [
    {
     "data": {
      "text/plain": [
       "('0.11.2+cu111', '1.10.1+cu111')"
      ]
     },
     "execution_count": 2,
     "metadata": {},
     "output_type": "execute_result"
    }
   ],
   "source": [
    "torchvision.__version__, torch.__version__ # ('0.11.2+cu111', '1.10.0+cu111')"
   ]
  },
  {
   "cell_type": "code",
   "execution_count": 3,
   "metadata": {},
   "outputs": [],
   "source": [
    "import warnings\n",
    "warnings.filterwarnings(\"ignore\")"
   ]
  },
  {
   "cell_type": "code",
   "execution_count": 4,
   "metadata": {},
   "outputs": [],
   "source": [
    "def seed_everything(seed):\n",
    "    \"\"\"\n",
    "    Seeds basic parameters for reproductibility of results\n",
    "    \n",
    "    Arguments:\n",
    "        seed {int} -- Number of the seed\n",
    "    \"\"\"\n",
    "    random.seed(seed)\n",
    "    os.environ[\"PYTHONHASHSEED\"] = str(seed)\n",
    "    np.random.seed(seed)\n",
    "    torch.manual_seed(seed)\n",
    "    torch.cuda.manual_seed(seed)\n",
    "    torch.backends.cudnn.deterministic = True\n",
    "    torch.backends.cudnn.benchmark = False\n",
    "\n",
    "\n",
    "seed_everything(1001)"
   ]
  },
  {
   "cell_type": "code",
   "execution_count": 5,
   "metadata": {},
   "outputs": [
    {
     "name": "stdout",
     "output_type": "stream",
     "text": [
      "device on which we are:cuda\n"
     ]
    }
   ],
   "source": [
    "class CFG:\n",
    "\n",
    "  epochs =20                              # No. of epochs for training the model\n",
    "  lr = 0.001                              # Learning rate\n",
    "  BATCH_SIZE = 50\n",
    "  N_EPOCHS = 30                        # Batch Size for Dataset\n",
    "\n",
    "#   model_name = 'tf_efficientnet_b4_ns'    # Model name (we are going to import model from timm)\n",
    "  IMG=224\n",
    "  img_size = (IMG,IMG)                        # Resize all the images to be 224 by 224\n",
    "  \n",
    "  # going to be used for loading dataset\n",
    "  ds_path = \"/path/to/image\"\n",
    "\n",
    "device = torch.device(\"cuda\" if torch.cuda.is_available() else \"cpu\")\n",
    "print(\"device on which we are:{}\".format(device))"
   ]
  },
  {
   "cell_type": "code",
   "execution_count": 6,
   "metadata": {},
   "outputs": [],
   "source": [
    "labels = []\n",
    "Base_dir=[]\n",
    "import os\n",
    "        \n",
    "\n",
    "for category in ['A','B','C']:\n",
    "    for p in os.listdir(os.path.join(CFG.ds_path, category)):\n",
    "        f = Path(os.path.join(CFG.ds_path,category, p))\n",
    "        Base_dir.append(str(f))\n",
    "        labels.append(str(f.parent.stem))"
   ]
  },
  {
   "cell_type": "code",
   "execution_count": 7,
   "metadata": {},
   "outputs": [],
   "source": [
    "train_dir, test_dir = train_test_split(Base_dir, test_size=0.2,random_state=123,stratify=labels)"
   ]
  },
  {
   "cell_type": "code",
   "execution_count": 8,
   "metadata": {},
   "outputs": [],
   "source": [
    "\n",
    "\n",
    "import albumentations\n",
    "import albumentations.pytorch"
   ]
  },
  {
   "cell_type": "code",
   "execution_count": 9,
   "metadata": {},
   "outputs": [],
   "source": [
    "test_transformer=albumentations.Compose([\n",
    "    albumentations.Resize(224,224),\n",
    "    albumentations.pytorch.ToTensorV2()\n",
    "])"
   ]
  },
  {
   "cell_type": "code",
   "execution_count": 10,
   "metadata": {},
   "outputs": [],
   "source": [
    "class Dataset():\n",
    "    def __init__(self, filelist, transform = None):\n",
    "        self.filelist = filelist\n",
    "        self.transform = transform\n",
    "\n",
    "    def __len__(self):\n",
    "        return int(len(self.filelist))\n",
    "\n",
    "    def __getitem__(self, index):\n",
    "        imgpath = self.filelist[index]\n",
    "        img = cv2.imread(imgpath)\n",
    "        img = cv2.cvtColor(img, cv2.COLOR_BGR2RGB)\n",
    "\n",
    "        if \"A\" in imgpath[-20:]:\n",
    "            label = 0\n",
    "        elif \"B\" in imgpath[-20:]:\n",
    "            label = 1\n",
    "        elif \"C\" in imgpath[-20:]:\n",
    "            label=2\n",
    "\n",
    "        if self.transform:\n",
    "            res = self.transform(image=img)\n",
    "            img = res['image']\n",
    "        else:\n",
    "            img = img\n",
    "\n",
    "        return (img, label)"
   ]
  },
  {
   "cell_type": "code",
   "execution_count": 12,
   "metadata": {},
   "outputs": [],
   "source": [
    "test=Dataset(test_dir,test_transformer)"
   ]
  },
  {
   "cell_type": "code",
   "execution_count": 13,
   "metadata": {},
   "outputs": [],
   "source": [
    "from torch.utils.data import Dataset, DataLoader, ConcatDataset"
   ]
  },
  {
   "cell_type": "code",
   "execution_count": 14,
   "metadata": {},
   "outputs": [],
   "source": [
    "test_loader=DataLoader(test,batch_size=CFG.BATCH_SIZE,num_workers=16)\n"
   ]
  },
  {
   "cell_type": "code",
   "execution_count": 16,
   "metadata": {},
   "outputs": [],
   "source": [
    "torch.backends.cudnn.benchmark = True\n",
    "### Obtained from Paper ###\n",
    "# Configs taken from \n",
    "# https://github.com/leondgarse/keras_efficientnet_v2/blob/main/keras_efficientnet_v2/efficientnet_v2.py\n",
    "# convs parameter is which type of block to use, maps to `layer_map`\n",
    "# 6 models are supported, more are coming soon.\n",
    "CONFIGS = {\n",
    "    \"b0\": {\n",
    "        \"widths\": [32, 16, 32, 48, 96, 112, 192],\n",
    "        \"depths\": [1, 2, 2, 3, 5, 8],\n",
    "        \"strides\": [1, 2, 2, 2, 1, 2],\n",
    "        \"convs\": [0, 1, 1, 2, 3, 3],\n",
    "        \"output_conv_size\": 1280,\n",
    "        \"timm_weights\": \"tf_efficientnetv2_b0\",\n",
    "    },\n",
    "    \"b1\": {\n",
    "        \"widths\": [32, 16, 32, 48, 96, 112, 192],\n",
    "        \"depths\": [2, 3, 3, 4, 6, 9],\n",
    "        \"strides\": [1, 2, 2, 2, 1, 2],\n",
    "        \"convs\":[0, 1, 1, 2, 3, 3],\n",
    "        \"output_conv_size\": 1280,\n",
    "        \"timm_weights\":\"tf_efficientnetv2_b1\",\n",
    "    },\n",
    "    \"b2\": {\n",
    "        \"widths\": [32, 16, 32, 56, 104, 120, 208],\n",
    "        \"depths\": [2, 3, 3, 4, 6, 10],\n",
    "        \"strides\": [1, 2, 2, 2, 1, 2],\n",
    "        \"convs\": [0, 1, 1, 2, 3, 3],\n",
    "        \"output_conv_size\": 1408,\n",
    "        \"timm_weights\":\"tf_efficientnetv2_b2\",\n",
    "    },\n",
    "    \"s\": {\n",
    "        \"widths\": [24, 24, 48, 64, 128, 160, 256],\n",
    "        \"depths\": [2, 4, 4, 6, 9, 15],\n",
    "        \"strides\": [1, 2, 2, 2, 1, 2],\n",
    "        \"convs\": [0, 1, 1, 2, 3, 3],\n",
    "        \"output_conv_size\": 1280,\n",
    "        \"timm_weights\": \"tf_efficientnetv2_s\"\n",
    "    },\n",
    "    \"m\": {\n",
    "        \"widths\": [24, 24, 48, 80, 160, 176, 304, 512],\n",
    "        \"depths\": [3, 5, 5, 7, 14, 18, 5],\n",
    "        \"strides\": [1, 2, 2, 2, 1, 2, 1],\n",
    "        \"convs\": [0, 1, 1, 2, 3, 3, 3],\n",
    "        \"output_conv_size\": 1280,\n",
    "        \"timm_weights\":\"tf_efficientnetv2_m\",\n",
    "    },\n",
    "    \"l\": {\n",
    "        \"widths\": [32, 32, 64, 96, 192, 224, 384, 640],\n",
    "        \"depths\": [4, 7, 7, 10, 19, 25, 7],\n",
    "        \"strides\": [1, 2, 2, 2, 1, 2, 1],\n",
    "        \"convs\": [0, 1, 1, 2, 3, 3, 3],\n",
    "        \"output_conv_size\": 1280,\n",
    "        \"timm_weights\":\"tf_efficientnetv2_l\",\n",
    "    }\n",
    "}"
   ]
  },
  {
   "cell_type": "code",
   "execution_count": 17,
   "metadata": {},
   "outputs": [],
   "source": [
    "def conv_block(in_channels, out_channels, kernel_size=3, \n",
    "               stride=1, padding=1, groups=1,\n",
    "               bias=False, bn=True, act = True):\n",
    "    layers = [\n",
    "        nn.Conv2d(in_channels, out_channels, kernel_size, stride=stride, \n",
    "                  padding=padding, groups=groups, bias=bias),\n",
    "        nn.BatchNorm2d(out_channels) if bn else nn.Identity(),\n",
    "        nn.SiLU() if act else nn.Identity()\n",
    "    ]\n",
    "    return nn.Sequential(*layers)"
   ]
  },
  {
   "cell_type": "code",
   "execution_count": 18,
   "metadata": {},
   "outputs": [],
   "source": [
    "class SEBlock(nn.Module):\n",
    "    def __init__(self, c, r=24):\n",
    "        super(SEBlock, self).__init__()\n",
    "        self.squeeze = nn.AdaptiveMaxPool2d(1)\n",
    "        self.excitation = nn.Sequential(\n",
    "            nn.Conv2d(c, c // r, kernel_size=1),\n",
    "            nn.SiLU(),\n",
    "            nn.Conv2d(c // r, c, kernel_size=1),\n",
    "            nn.Sigmoid()\n",
    "        )\n",
    "    def forward(self, x):\n",
    "        s = self.squeeze(x)\n",
    "        e = self.excitation(s)\n",
    "        return x * e"
   ]
  },
  {
   "cell_type": "code",
   "execution_count": 19,
   "metadata": {},
   "outputs": [],
   "source": [
    "class MBConv(nn.Module):\n",
    "    def __init__(self, n_in, n_out, expansion, kernel_size=3, stride=1, r=24, dropout=0.1):\n",
    "        super(MBConv, self).__init__()\n",
    "        self.skip_connection = (n_in == n_out) and (stride == 1)\n",
    "        \n",
    "        padding = (kernel_size-1)//2\n",
    "        expanded = expansion*n_in\n",
    "        \n",
    "        self.expand_pw = nn.Identity() if expansion == 1 else conv_block(n_in, expanded, kernel_size=1, padding=0)\n",
    "        self.depthwise = conv_block(expanded, expanded, kernel_size=kernel_size, \n",
    "                                    stride=stride, padding=padding, groups=expanded)\n",
    "        self.se = SEBlock(expanded, r=4 * expansion)\n",
    "        self.reduce_pw = conv_block(expanded, n_out, kernel_size=1, padding=0, act=False)\n",
    "        self.dropout = nn.Dropout(dropout)\n",
    "        \n",
    "    def forward(self, x):\n",
    "        residual = x\n",
    "        x = self.expand_pw(x)\n",
    "        x = self.depthwise(x)\n",
    "        x = self.se(x)\n",
    "        x = self.reduce_pw(x)\n",
    "        if self.skip_connection:\n",
    "            x = self.dropout(x)\n",
    "            x = x + residual\n",
    "        return x"
   ]
  },
  {
   "cell_type": "code",
   "execution_count": 20,
   "metadata": {},
   "outputs": [],
   "source": [
    "class FusedMBConv(nn.Module):\n",
    "    def __init__(self, n_in, n_out, expansion, kernel_size=3, stride=1, r=24, dropout=0.1):\n",
    "        super(FusedMBConv, self).__init__()\n",
    "        self.skip_connection = (n_in == n_out) and (stride == 1)\n",
    "        padding = (kernel_size-1)//2\n",
    "        expanded = expansion*n_in\n",
    "        \n",
    "        self.expand_pw = conv_block(n_in, expanded, kernel_size=3, stride=stride, padding=1)\n",
    "        self.reduce_pw = conv_block(expanded, n_out, kernel_size=1, padding=0, act=False)\n",
    "        \n",
    "        if expansion == 1:\n",
    "            self.reduce_pw = nn.Identity() # for consistency with timm implementation\n",
    "            self.expand_pw = conv_block(n_in, n_out, kernel_size=3, stride=stride, padding=1)\n",
    "        self.dropout = nn.Dropout(dropout)\n",
    "        \n",
    "    def forward(self, x):\n",
    "        residual = x\n",
    "        x = self.expand_pw(x)\n",
    "        x = self.reduce_pw(x)\n",
    "        if self.skip_connection:\n",
    "            x = self.dropout(x)\n",
    "            x = x + residual\n",
    "        return x"
   ]
  },
  {
   "cell_type": "code",
   "execution_count": 21,
   "metadata": {},
   "outputs": [],
   "source": [
    "def mbconv4(n_in, n_out, kernel_size=3, stride=1, r=24, dropout=0.1):\n",
    "    return MBConv(n_in, n_out, 4, kernel_size=kernel_size, stride=stride, r=r, dropout=dropout)\n",
    "def mbconv6(n_in, n_out, kernel_size=3, stride=1, r=24, dropout=0.1):\n",
    "    return MBConv(n_in, n_out, 6, kernel_size=kernel_size, stride=stride, r=r, dropout=dropout)\n",
    "def fused_mbconv1(n_in, n_out, kernel_size=3, stride=1, r=24, dropout=0.1):\n",
    "    return FusedMBConv(n_in, n_out, 1, kernel_size=kernel_size, stride=stride, r=r, dropout=dropout)\n",
    "def fused_mbconv4(n_in, n_out, kernel_size=3, stride=1, r=24, dropout=0.1):\n",
    "    return FusedMBConv(n_in, n_out, 4, kernel_size=kernel_size, stride=stride, r=r, dropout=dropout)\n",
    "layers_map = [fused_mbconv1, fused_mbconv4, mbconv4, mbconv6]"
   ]
  },
  {
   "cell_type": "code",
   "execution_count": 22,
   "metadata": {},
   "outputs": [],
   "source": [
    "def create_stage(n_in, n_out, num_layers, layer=mbconv6, \n",
    "                 kernel_size=3, stride=1, r=24, ps=0):\n",
    "    layers = [layer(n_in, n_out, kernel_size=kernel_size,\n",
    "                       stride=stride, r=r, dropout=ps)]\n",
    "    layers += [layer(n_out, n_out, kernel_size=kernel_size,\n",
    "                        r=r, dropout=ps) for _ in range(num_layers-1)]\n",
    "    return nn.Sequential(*layers)"
   ]
  },
  {
   "cell_type": "code",
   "execution_count": 23,
   "metadata": {},
   "outputs": [],
   "source": [
    "class EfficientNetV2(nn.Module):\n",
    "    \"\"\"\n",
    "    Generic EfficientNet V2 Class.\n",
    "    \"\"\"\n",
    "    def __init__(self, cfg, n_classes=3):\n",
    "        super(EfficientNetV2, self).__init__()\n",
    "        self.cfg = cfg\n",
    "        self.n_classes = n_classes\n",
    "        widths, depths, strides, convs = cfg['widths'],cfg['depths'],cfg['strides'],cfg['convs']\n",
    "        outconv_size = cfg['output_conv_size']\n",
    "        \n",
    "        stages = [conv_block(3, widths[0], stride=2, padding=1)]\n",
    "        for i in range(len(depths)):\n",
    "            stages.append(create_stage(widths[i], widths[i + 1], depths[i], layer=layers_map[convs[i]], \n",
    "                        stride=strides[i], r=4 if i ==0 else 24, ps=0))\n",
    "\n",
    "        self.features = nn.Sequential(*stages)\n",
    "        self.pre = conv_block(widths[-1], outconv_size, kernel_size=1, padding=0)\n",
    "        self.pool_flatten = nn.Sequential(nn.AdaptiveAvgPool2d(1), nn.Flatten())\n",
    "        self.head = nn.Sequential(\n",
    "            nn.Linear(outconv_size, n_classes)\n",
    "        )\n",
    "            \n",
    "    def forward(self, x):\n",
    "        x = self.features(x)\n",
    "        x = self.pre(x)\n",
    "        x = self.pool_flatten(x)\n",
    "        x = self.head(x)\n",
    "        return x"
   ]
  },
  {
   "cell_type": "code",
   "execution_count": 24,
   "metadata": {},
   "outputs": [],
   "source": [
    "def efficientnetv2_b0(n_classes=3):\n",
    "    return EfficientNetV2(CONFIGS['b0'], n_classes=n_classes)\n",
    "def efficientnetv2_b1(n_classes=3):\n",
    "    return EfficientNetV2(CONFIGS['b1'], n_classes=n_classes)\n",
    "def efficientnetv2_b2(n_classes=3):\n",
    "    return EfficientNetV2(CONFIGS['b2'], n_classes=n_classes)\n",
    "def efficientnetv2_s(n_classes=3):\n",
    "    return EfficientNetV2(CONFIGS['s'], n_classes=n_classes)\n",
    "def efficientnetv2_m(n_classes=3):\n",
    "    return EfficientNetV2(CONFIGS['m'], n_classes=n_classes)\n",
    "def efficientnetv2_l(n_classes=3):\n",
    "    return EfficientNetV2(CONFIGS['l'], n_classes=n_classes)"
   ]
  },
  {
   "cell_type": "code",
   "execution_count": 25,
   "metadata": {},
   "outputs": [],
   "source": [
    "classes=['A','B','C']"
   ]
  },
  {
   "cell_type": "code",
   "execution_count": 26,
   "metadata": {},
   "outputs": [],
   "source": [
    "def load_timm_weights(model):\n",
    "    url = model.cfg.get(\"timm_weights\")\n",
    "    timm_model = timm.create_model(url, pretrained=True, num_classes=len(classes))\n",
    "    params = nn.utils.parameters_to_vector(timm_model.parameters())\n",
    "    nn.utils.vector_to_parameters(params, model.parameters())"
   ]
  },
  {
   "cell_type": "code",
   "execution_count": 27,
   "metadata": {},
   "outputs": [],
   "source": [
    "model = efficientnetv2_s(n_classes=len(classes))\n",
    "load_timm_weights(model)\n",
    "for param in model.parameters():\n",
    "    param.requires_grad = False\n",
    "    \n",
    "n_inputs = model.head[0].in_features\n",
    "model.head = nn.Sequential(\n",
    "    nn.Linear(n_inputs,512),\n",
    "    nn.SiLU(),\n",
    "    nn.Dropout(0.3),\n",
    "    nn.Linear(512, len(classes))\n",
    ")"
   ]
  },
  {
   "cell_type": "code",
   "execution_count": 28,
   "metadata": {},
   "outputs": [],
   "source": [
    "criterion = nn.CrossEntropyLoss()\n",
    "criterion = criterion.to(device)"
   ]
  },
  {
   "cell_type": "code",
   "execution_count": 29,
   "metadata": {},
   "outputs": [],
   "source": [
    "def test_eval(model):\n",
    "  test_loss = 0.0\n",
    "  correct_num=0.0\n",
    "  class_correct = list(0. for i in range(len(classes)))\n",
    "  class_total = list(0. for i in range(len(classes)))\n",
    "\n",
    "  model.eval()\n",
    "  test_loader=DataLoader(test,batch_size=CFG.BATCH_SIZE,num_workers=25)\n",
    "\n",
    "  for data, target in tqdm(test_loader):\n",
    "      if torch.cuda.is_available(): \n",
    "          data, target = data.cuda().float(), target.cuda()\n",
    "      with torch.no_grad():\n",
    "        output = model(data)\n",
    "        loss = criterion(output, target)\n",
    "      test_loss += loss.item()*data.size(0)\n",
    "      _, pred = torch.max(output, 1)    \n",
    "      correct_tensor = pred.eq(target.data.view_as(pred))\n",
    "      correct = np.squeeze(correct_tensor.numpy()) if not torch.cuda.is_available() else np.squeeze(correct_tensor.cpu().numpy())\n",
    "      correct_num+=torch.sum(correct_tensor)\n",
    "      for i in range(len(target)):\n",
    "        label = target.data[i]\n",
    "        class_correct[label] += correct[i].item()\n",
    "        class_total[label] += 1\n",
    "  test_acc=correct_num/len(test_loader.dataset)\n",
    "  print('Test acc: {:.6f}\\n'.format(test_acc))\n",
    "  test_loss = test_loss/len(test_loader.dataset)\n",
    "  print('Test Loss: {:.6f}\\n'.format(test_loss))\n",
    "\n",
    "  for i in range(len(classes)):\n",
    "      if class_total[i] > 0:\n",
    "          print('Test Accuracy of %5s: %2d%% (%2d/%2d)' % (\n",
    "              classes[i], 100 * class_correct[i] / class_total[i],\n",
    "              np.sum(class_correct[i]), np.sum(class_total[i])))\n",
    "      else:\n",
    "          print('Test Accuracy of %5s: N/A (no training examples)' % (classes[i]))\n",
    "\n",
    "  print('\\nTest Accuracy (Overall): {:.4f} ({}/{})'.format(\n",
    "      100. * np.sum(class_correct) / np.sum(class_total),\n",
    "      np.sum(class_correct), np.sum(class_total)))"
   ]
  },
  {
   "cell_type": "code",
   "execution_count": 30,
   "metadata": {},
   "outputs": [],
   "source": [
    "criterion = nn.CrossEntropyLoss()\n",
    "criterion = criterion.to(device)"
   ]
  },
  {
   "cell_type": "code",
   "execution_count": 32,
   "metadata": {},
   "outputs": [],
   "source": [
    "from tqdm import tqdm\n",
    "import time\n",
    "import copy\n",
    "test_loader=DataLoader(test,batch_size=CFG.BATCH_SIZE,num_workers=16)"
   ]
  },
  {
   "cell_type": "code",
   "execution_count": 33,
   "metadata": {},
   "outputs": [
    {
     "name": "stderr",
     "output_type": "stream",
     "text": [
      "100%|██████████| 6/6 [00:04<00:00,  1.38it/s]\n"
     ]
    },
    {
     "name": "stdout",
     "output_type": "stream",
     "text": [
      "Test acc: 0.670000\n",
      "\n",
      "Test Loss: 0.716669\n",
      "\n",
      "Test Accuracy of     A: 72% (72/100)\n",
      "Test Accuracy of     B: 47% (47/100)\n",
      "Test Accuracy of     C: 82% (82/100)\n",
      "\n",
      "Test Accuracy (Overall): 67.0000 (201.0/300.0)\n"
     ]
    },
    {
     "name": "stderr",
     "output_type": "stream",
     "text": [
      "100%|██████████| 6/6 [00:03<00:00,  1.66it/s]\n"
     ]
    },
    {
     "name": "stdout",
     "output_type": "stream",
     "text": [
      "Test acc: 0.686667\n",
      "\n",
      "Test Loss: 0.663039\n",
      "\n",
      "Test Accuracy of     A: 69% (69/100)\n",
      "Test Accuracy of     B: 62% (62/100)\n",
      "Test Accuracy of     C: 75% (75/100)\n",
      "\n",
      "Test Accuracy (Overall): 68.6667 (206.0/300.0)\n"
     ]
    },
    {
     "name": "stderr",
     "output_type": "stream",
     "text": [
      "100%|██████████| 6/6 [00:03<00:00,  1.62it/s]\n"
     ]
    },
    {
     "name": "stdout",
     "output_type": "stream",
     "text": [
      "Test acc: 0.693333\n",
      "\n",
      "Test Loss: 0.668602\n",
      "\n",
      "Test Accuracy of     A: 80% (80/100)\n",
      "Test Accuracy of     B: 35% (35/100)\n",
      "Test Accuracy of     C: 93% (93/100)\n",
      "\n",
      "Test Accuracy (Overall): 69.3333 (208.0/300.0)\n"
     ]
    },
    {
     "name": "stderr",
     "output_type": "stream",
     "text": [
      "100%|██████████| 6/6 [00:03<00:00,  1.56it/s]\n"
     ]
    },
    {
     "name": "stdout",
     "output_type": "stream",
     "text": [
      "Test acc: 0.656667\n",
      "\n",
      "Test Loss: 0.715718\n",
      "\n",
      "Test Accuracy of     A: 58% (58/100)\n",
      "Test Accuracy of     B: 57% (57/100)\n",
      "Test Accuracy of     C: 82% (82/100)\n",
      "\n",
      "Test Accuracy (Overall): 65.6667 (197.0/300.0)\n"
     ]
    },
    {
     "name": "stderr",
     "output_type": "stream",
     "text": [
      "100%|██████████| 6/6 [00:03<00:00,  1.80it/s]"
     ]
    },
    {
     "name": "stdout",
     "output_type": "stream",
     "text": [
      "Test acc: 0.670000\n",
      "\n",
      "Test Loss: 0.690148\n",
      "\n",
      "Test Accuracy of     A: 86% (86/100)\n",
      "Test Accuracy of     B: 32% (32/100)\n",
      "Test Accuracy of     C: 83% (83/100)\n",
      "\n",
      "Test Accuracy (Overall): 67.0000 (201.0/300.0)\n"
     ]
    },
    {
     "name": "stderr",
     "output_type": "stream",
     "text": [
      "\n"
     ]
    }
   ],
   "source": [
    "for i in range(5):\n",
    "    model.load_state_dict(torch.load(f'./weights/model_5e_{i}.pth'))\n",
    "    device = torch.device(\"cuda\" if torch.cuda.is_available() else 'cpu')\n",
    "    model = model.to(device)\n",
    "    model.eval()\n",
    "    test_eval(model)"
   ]
  },
  {
   "cell_type": "code",
   "execution_count": 34,
   "metadata": {},
   "outputs": [],
   "source": [
    "models=[]\n",
    "for i in range(5):\n",
    "    model.load_state_dict(torch.load(f'./weights/model_5e_{i}.pth'))\n",
    "    device = torch.device(\"cuda\" if torch.cuda.is_available() else 'cpu')\n",
    "    model = model.to(device)\n",
    "    model.eval()\n",
    "    models.append(model)"
   ]
  },
  {
   "cell_type": "code",
   "execution_count": 35,
   "metadata": {},
   "outputs": [],
   "source": [
    "def get_all_preds_k_fold(models,loader):\n",
    "  all_preds=torch.tensor([])\n",
    "  ground_truth=torch.tensor([])\n",
    "  running_loss=0\n",
    "  model1=models[0]\n",
    "  model2=models[1]\n",
    "  model3=models[2]\n",
    "  model4=models[3]\n",
    "  model5=models[4]\n",
    "  for batch in loader:\n",
    "    images,labels=batch\n",
    "    images=images.to(device).float()\n",
    "    labels=labels.to('cpu')\n",
    "\n",
    "    ground_truth=torch.cat((ground_truth,labels),dim=0)\n",
    "    p1=model1(images).to('cpu')\n",
    "    p2=model2(images).to('cpu')\n",
    "    p3=model3(images).to('cpu')\n",
    "    p4=model4(images).to('cpu')\n",
    "    p5=model5(images).to('cpu')\n",
    "    preds=(p1+p2+p3+p4+p5)/5\n",
    "\n",
    "    all_preds=torch.cat((all_preds,preds),dim=0)\n",
    "    loss_val = criterion(preds, labels)\n",
    "    running_loss += loss_val.item() * images.size(0)\n",
    "  \n",
    "  loss=running_loss/len(loader)\n",
    "  return all_preds,ground_truth,loss"
   ]
  },
  {
   "cell_type": "code",
   "execution_count": 36,
   "metadata": {},
   "outputs": [],
   "source": [
    "torch.cuda.empty_cache()"
   ]
  },
  {
   "cell_type": "code",
   "execution_count": 37,
   "metadata": {},
   "outputs": [],
   "source": [
    "with torch.no_grad():\n",
    "      prediction_loader=torch.utils.data.DataLoader(test,batch_size=int(len(test)/300),num_workers=8)\n",
    "      test_preds,ground_truth,loss=get_all_preds_k_fold(models,prediction_loader)"
   ]
  },
  {
   "cell_type": "code",
   "execution_count": 38,
   "metadata": {},
   "outputs": [],
   "source": [
    "def get_num_correct(preds,labels):\n",
    "  print(preds.argmax(dim=1).eq(labels).sum().item()/len(preds))"
   ]
  },
  {
   "cell_type": "code",
   "execution_count": 39,
   "metadata": {},
   "outputs": [
    {
     "name": "stdout",
     "output_type": "stream",
     "text": [
      "0.6733333333333333\n"
     ]
    }
   ],
   "source": [
    "get_num_correct(test_preds,ground_truth)"
   ]
  },
  {
   "cell_type": "code",
   "execution_count": 40,
   "metadata": {},
   "outputs": [
    {
     "name": "stdout",
     "output_type": "stream",
     "text": [
      "<class 'numpy.ndarray'>\n"
     ]
    }
   ],
   "source": [
    "import matplotlib.pyplot as plt\n",
    "from sklearn.metrics import confusion_matrix\n",
    "cm=confusion_matrix(ground_truth,test_preds.argmax(dim=1))\n",
    "print(type(cm))"
   ]
  },
  {
   "cell_type": "code",
   "execution_count": 41,
   "metadata": {},
   "outputs": [],
   "source": [
    "\n",
    "import itertools\n",
    "import numpy as np\n",
    "import matplotlib.pyplot as plt\n",
    "\n",
    "def plot_confusion_matrix(cm, classes, normalize=False, title='Confusion matrix', cmap=plt.cm.Blues):\n",
    "    if normalize:\n",
    "        cm = cm.astype('float') / cm.sum(axis=1)[:, np.newaxis]\n",
    "        print(\"Normalized confusion matrix\")\n",
    "    else:\n",
    "        print('Confusion matrix, without normalization')\n",
    "\n",
    "    plt.imshow(cm, interpolation='nearest', cmap=cmap)\n",
    "    plt.title(title)\n",
    "    plt.colorbar()\n",
    "    tick_marks = np.arange(len(classes))\n",
    "    plt.xticks(tick_marks, classes, rotation=45)\n",
    "    plt.yticks(tick_marks, classes)\n",
    "\n",
    "    fmt = '.2f' if normalize else 'd'\n",
    "    thresh = cm.max() / 2.\n",
    "    for i, j in itertools.product(range(cm.shape[0]), range(cm.shape[1])):\n",
    "        plt.text(j, i, format(cm[i, j], fmt),fontsize=30, horizontalalignment=\"center\", color=\"white\" if cm[i, j] > thresh else \"black\")\n",
    "\n",
    "    plt.tight_layout()\n",
    "    plt.ylabel('True label')\n",
    "    plt.xlabel('Predicted label')"
   ]
  },
  {
   "cell_type": "code",
   "execution_count": 42,
   "metadata": {},
   "outputs": [
    {
     "name": "stdout",
     "output_type": "stream",
     "text": [
      "Confusion matrix, without normalization\n"
     ]
    },
    {
     "data": {
      "image/png": "[encoded data removed]",
      "text/plain": [
       "<Figure size 720x720 with 2 Axes>"
      ]
     },
     "metadata": {},
     "output_type": "display_data"
    }
   ],
   "source": [
    "names=('A','B','C')\n",
    "plt.figure(figsize=(10,10))\n",
    "plot_confusion_matrix(cm, names)"
   ]
  }
 ],
 "metadata": {
  "kernelspec": {
   "display_name": "Python 3.8.10 64-bit",
   "language": "python",
   "name": "python3"
  },
  "language_info": {
   "codemirror_mode": {
    "name": "ipython",
    "version": 3
   },
   "file_extension": ".py",
   "mimetype": "text/x-python",
   "name": "python",
   "nbconvert_exporter": "python",
   "pygments_lexer": "ipython3",
   "version": "3.8.10"
  },
  "orig_nbformat": 4,
  "vscode": {
   "interpreter": {
    "hash": "916dbcbb3f70747c44a77c7bcd40155683ae19c65e1c03b4aa3499c5328201f1"
   }
  }
 },
 "nbformat": 4,
 "nbformat_minor": 2
}
